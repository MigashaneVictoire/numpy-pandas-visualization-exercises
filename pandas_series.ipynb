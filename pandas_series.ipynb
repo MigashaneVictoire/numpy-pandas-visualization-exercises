{
 "cells": [
  {
   "cell_type": "markdown",
   "id": "466d9029",
   "metadata": {},
   "source": [
    "# Pandas Series Exercises\n",
    "\n",
    "## Exercises Part I\n",
    "\n",
    "Make a file named pandas_series.py or pandas_series.ipynb for the following exercises.\n",
    "\n",
    "Use pandas to create a Series named fruits from the following list:\n",
    "```\n",
    "[\"kiwi\", \"mango\", \"strawberry\", \"pineapple\", \"gala apple\", \"honeycrisp apple\", \"tomato\", \"watermelon\", \"honeydew\", \"kiwi\", \"kiwi\", \"kiwi\", \"mango\", \"blueberry\", \"blackberry\", \"gooseberry\", \"papaya\"]\n",
    "```\n",
    "Use Series attributes and methods to explore your fruits Series.\n",
    "\n",
    "1. Determine the number of elements in fruits."
   ]
  },
  {
   "cell_type": "code",
   "execution_count": 9,
   "id": "53eb14e9",
   "metadata": {},
   "outputs": [],
   "source": [
    "import numpy as np\n",
    "import pandas as pd\n",
    "import matplotlib.pyplot as plt\n",
    "\n",
    "fruits = [\"kiwi\", \"mango\", \"strawberry\", \"pineapple\", \"gala apple\", \"honeycrisp apple\", \"tomato\", \"watermelon\", \"honeydew\", \"kiwi\", \"kiwi\", \"kiwi\", \"mango\", \"blueberry\", \"blackberry\", \"gooseberry\", \"papaya\"]"
   ]
  },
  {
   "cell_type": "code",
   "execution_count": 12,
   "id": "38581c4e",
   "metadata": {},
   "outputs": [
    {
     "data": {
      "text/plain": [
       "(17, 264)"
      ]
     },
     "execution_count": 12,
     "metadata": {},
     "output_type": "execute_result"
    }
   ],
   "source": [
    "fruits = pd.Series(fruits, name= \"fruits\") # name assigns a coulum title to the series\n",
    "\n",
    "len(fruits), fruits.memory_usage() # memory usage will check the space taken by the series"
   ]
  },
  {
   "cell_type": "code",
   "execution_count": 13,
   "id": "649f626d",
   "metadata": {
    "scrolled": true
   },
   "outputs": [
    {
     "data": {
      "text/plain": [
       "(17,)"
      ]
     },
     "execution_count": 13,
     "metadata": {},
     "output_type": "execute_result"
    }
   ],
   "source": [
    "fruits.shape"
   ]
  },
  {
   "cell_type": "code",
   "execution_count": 14,
   "id": "669e1dbf",
   "metadata": {},
   "outputs": [
    {
     "data": {
      "text/plain": [
       "17"
      ]
     },
     "execution_count": 14,
     "metadata": {},
     "output_type": "execute_result"
    }
   ],
   "source": [
    "fruits.size"
   ]
  },
  {
   "cell_type": "markdown",
   "id": "925bb164",
   "metadata": {},
   "source": [
    "2. Output only the index from fruits."
   ]
  },
  {
   "cell_type": "code",
   "execution_count": 15,
   "id": "08a961f6",
   "metadata": {},
   "outputs": [
    {
     "data": {
      "text/plain": [
       "[0, 1, 2, 3, 4, 5, 6, 7, 8, 9, 10, 11, 12, 13, 14, 15, 16]"
      ]
     },
     "execution_count": 15,
     "metadata": {},
     "output_type": "execute_result"
    }
   ],
   "source": [
    "list(fruits.index)"
   ]
  },
  {
   "cell_type": "markdown",
   "id": "3a64fff8",
   "metadata": {},
   "source": [
    "3. Output only the values from fruits."
   ]
  },
  {
   "cell_type": "code",
   "execution_count": 16,
   "id": "68ba8679",
   "metadata": {},
   "outputs": [
    {
     "data": {
      "text/plain": [
       "array(['kiwi', 'mango', 'strawberry', 'pineapple', 'gala apple',\n",
       "       'honeycrisp apple', 'tomato', 'watermelon', 'honeydew', 'kiwi',\n",
       "       'kiwi', 'kiwi', 'mango', 'blueberry', 'blackberry', 'gooseberry',\n",
       "       'papaya'], dtype=object)"
      ]
     },
     "execution_count": 16,
     "metadata": {},
     "output_type": "execute_result"
    }
   ],
   "source": [
    "fruits.values"
   ]
  },
  {
   "cell_type": "markdown",
   "id": "a26793d4",
   "metadata": {},
   "source": [
    "4. Confirm the data type of the values in fruits."
   ]
  },
  {
   "cell_type": "code",
   "execution_count": 17,
   "id": "bb951a63",
   "metadata": {},
   "outputs": [
    {
     "data": {
      "text/plain": [
       "(pandas.core.series.Series, dtype('O'))"
      ]
     },
     "execution_count": 17,
     "metadata": {},
     "output_type": "execute_result"
    }
   ],
   "source": [
    "type(fruits), fruits.dtype"
   ]
  },
  {
   "cell_type": "markdown",
   "id": "c850c8d6",
   "metadata": {},
   "source": [
    "5. Output only the first five values from fruits. Output the last three values. Output two random values from fruits."
   ]
  },
  {
   "cell_type": "code",
   "execution_count": 18,
   "id": "45d49c47",
   "metadata": {},
   "outputs": [
    {
     "data": {
      "text/plain": [
       "0          kiwi\n",
       "1         mango\n",
       "2    strawberry\n",
       "3     pineapple\n",
       "4    gala apple\n",
       "Name: fruits, dtype: object"
      ]
     },
     "execution_count": 18,
     "metadata": {},
     "output_type": "execute_result"
    }
   ],
   "source": [
    "fruits.head()"
   ]
  },
  {
   "cell_type": "code",
   "execution_count": 19,
   "id": "ded8abbc",
   "metadata": {},
   "outputs": [
    {
     "data": {
      "text/plain": [
       "14    blackberry\n",
       "15    gooseberry\n",
       "16        papaya\n",
       "Name: fruits, dtype: object"
      ]
     },
     "execution_count": 19,
     "metadata": {},
     "output_type": "execute_result"
    }
   ],
   "source": [
    "fruits.tail(3)"
   ]
  },
  {
   "cell_type": "code",
   "execution_count": 20,
   "id": "66be8008",
   "metadata": {},
   "outputs": [
    {
     "data": {
      "text/plain": [
       "array(['mango', 'pineapple'], dtype=object)"
      ]
     },
     "execution_count": 20,
     "metadata": {},
     "output_type": "execute_result"
    }
   ],
   "source": [
    "np.random.choice(fruits,2)"
   ]
  },
  {
   "cell_type": "code",
   "execution_count": 21,
   "id": "712310d2",
   "metadata": {},
   "outputs": [
    {
     "data": {
      "text/plain": [
       "12               mango\n",
       "1                mango\n",
       "5     honeycrisp apple\n",
       "Name: fruits, dtype: object"
      ]
     },
     "execution_count": 21,
     "metadata": {},
     "output_type": "execute_result"
    }
   ],
   "source": [
    "fruits.sample(3)"
   ]
  },
  {
   "cell_type": "markdown",
   "id": "ab6780cb",
   "metadata": {},
   "source": [
    "6. Run the .describe() on fruits to see what information it returns when called on a Series with string values."
   ]
  },
  {
   "cell_type": "code",
   "execution_count": 22,
   "id": "ad456ada",
   "metadata": {},
   "outputs": [
    {
     "data": {
      "text/plain": [
       "count       17\n",
       "unique      13\n",
       "top       kiwi\n",
       "freq         4\n",
       "Name: fruits, dtype: object"
      ]
     },
     "execution_count": 22,
     "metadata": {},
     "output_type": "execute_result"
    }
   ],
   "source": [
    "fruits.describe()"
   ]
  },
  {
   "cell_type": "markdown",
   "id": "ffc4e28f",
   "metadata": {},
   "source": [
    "7. Run the code necessary to produce only the unique string values from fruits."
   ]
  },
  {
   "cell_type": "code",
   "execution_count": 23,
   "id": "88b24495",
   "metadata": {},
   "outputs": [
    {
     "data": {
      "text/plain": [
       "array(['kiwi', 'mango', 'strawberry', 'pineapple', 'gala apple',\n",
       "       'honeycrisp apple', 'tomato', 'watermelon', 'honeydew',\n",
       "       'blueberry', 'blackberry', 'gooseberry', 'papaya'], dtype=object)"
      ]
     },
     "execution_count": 23,
     "metadata": {},
     "output_type": "execute_result"
    }
   ],
   "source": [
    "fruits.unique()"
   ]
  },
  {
   "cell_type": "markdown",
   "id": "39b9a75c",
   "metadata": {},
   "source": [
    "8. Determine how many times each unique string value occurs in fruits."
   ]
  },
  {
   "cell_type": "code",
   "execution_count": 24,
   "id": "741ddd52",
   "metadata": {},
   "outputs": [
    {
     "data": {
      "text/plain": [
       "kiwi                4\n",
       "mango               2\n",
       "strawberry          1\n",
       "pineapple           1\n",
       "gala apple          1\n",
       "honeycrisp apple    1\n",
       "tomato              1\n",
       "watermelon          1\n",
       "honeydew            1\n",
       "blueberry           1\n",
       "blackberry          1\n",
       "gooseberry          1\n",
       "papaya              1\n",
       "Name: fruits, dtype: int64"
      ]
     },
     "execution_count": 24,
     "metadata": {},
     "output_type": "execute_result"
    }
   ],
   "source": [
    "fruits.value_counts()"
   ]
  },
  {
   "cell_type": "markdown",
   "id": "95f9f57a",
   "metadata": {},
   "source": [
    "9. Determine the string value that occurs most frequently in fruits."
   ]
  },
  {
   "cell_type": "code",
   "execution_count": 25,
   "id": "d8795b10",
   "metadata": {},
   "outputs": [
    {
     "data": {
      "text/plain": [
       "0    kiwi\n",
       "Name: fruits, dtype: object"
      ]
     },
     "execution_count": 25,
     "metadata": {},
     "output_type": "execute_result"
    }
   ],
   "source": [
    "fruits.mode()"
   ]
  },
  {
   "cell_type": "markdown",
   "id": "7000469b",
   "metadata": {},
   "source": [
    "10. Determine the string value that occurs least frequently in fruits."
   ]
  },
  {
   "cell_type": "code",
   "execution_count": 26,
   "id": "21cb69fc",
   "metadata": {},
   "outputs": [
    {
     "data": {
      "text/plain": [
       "'blackberry'"
      ]
     },
     "execution_count": 26,
     "metadata": {},
     "output_type": "execute_result"
    }
   ],
   "source": [
    "fruits.min()"
   ]
  },
  {
   "cell_type": "markdown",
   "id": "24964f9f",
   "metadata": {},
   "source": [
    "## Exercises Part II\n",
    "\n",
    "Explore more attributes and methods while you continue to work with the fruits Series.\n",
    "\n",
    "1. Capitalize all the string values in fruits."
   ]
  },
  {
   "cell_type": "code",
   "execution_count": 27,
   "id": "53db4652",
   "metadata": {},
   "outputs": [
    {
     "data": {
      "text/plain": [
       "0                 KIWI\n",
       "1                MANGO\n",
       "2           STRAWBERRY\n",
       "3            PINEAPPLE\n",
       "4           GALA APPLE\n",
       "5     HONEYCRISP APPLE\n",
       "6               TOMATO\n",
       "7           WATERMELON\n",
       "8             HONEYDEW\n",
       "9                 KIWI\n",
       "10                KIWI\n",
       "11                KIWI\n",
       "12               MANGO\n",
       "13           BLUEBERRY\n",
       "14          BLACKBERRY\n",
       "15          GOOSEBERRY\n",
       "16              PAPAYA\n",
       "Name: fruits, dtype: object"
      ]
     },
     "execution_count": 27,
     "metadata": {},
     "output_type": "execute_result"
    }
   ],
   "source": [
    "fruits.str.upper()"
   ]
  },
  {
   "cell_type": "code",
   "execution_count": 28,
   "id": "c99728df",
   "metadata": {},
   "outputs": [
    {
     "data": {
      "text/plain": [
       "0                 Kiwi\n",
       "1                Mango\n",
       "2           Strawberry\n",
       "3            Pineapple\n",
       "4           Gala Apple\n",
       "5     Honeycrisp Apple\n",
       "6               Tomato\n",
       "7           Watermelon\n",
       "8             Honeydew\n",
       "9                 Kiwi\n",
       "10                Kiwi\n",
       "11                Kiwi\n",
       "12               Mango\n",
       "13           Blueberry\n",
       "14          Blackberry\n",
       "15          Gooseberry\n",
       "16              Papaya\n",
       "Name: fruits, dtype: object"
      ]
     },
     "execution_count": 28,
     "metadata": {},
     "output_type": "execute_result"
    }
   ],
   "source": [
    "fruits.str.title()"
   ]
  },
  {
   "cell_type": "code",
   "execution_count": 29,
   "id": "95f5862e",
   "metadata": {},
   "outputs": [
    {
     "data": {
      "text/plain": [
       "0                 Kiwi\n",
       "1                Mango\n",
       "2           Strawberry\n",
       "3            Pineapple\n",
       "4           Gala apple\n",
       "5     Honeycrisp apple\n",
       "6               Tomato\n",
       "7           Watermelon\n",
       "8             Honeydew\n",
       "9                 Kiwi\n",
       "10                Kiwi\n",
       "11                Kiwi\n",
       "12               Mango\n",
       "13           Blueberry\n",
       "14          Blackberry\n",
       "15          Gooseberry\n",
       "16              Papaya\n",
       "Name: fruits, dtype: object"
      ]
     },
     "execution_count": 29,
     "metadata": {},
     "output_type": "execute_result"
    }
   ],
   "source": [
    "fruits.str.capitalize()"
   ]
  },
  {
   "cell_type": "code",
   "execution_count": 30,
   "id": "3ceb7e8b",
   "metadata": {},
   "outputs": [
    {
     "data": {
      "text/plain": [
       "0                 kiwi\n",
       "1                mango\n",
       "2           strawberry\n",
       "3            pineapple\n",
       "4           gala apple\n",
       "5     honeycrisp apple\n",
       "6               tomato\n",
       "7           watermelon\n",
       "8             honeydew\n",
       "9                 kiwi\n",
       "10                kiwi\n",
       "11                kiwi\n",
       "12               mango\n",
       "13           blueberry\n",
       "14          blackberry\n",
       "15          gooseberry\n",
       "16              papaya\n",
       "Name: fruits, dtype: object"
      ]
     },
     "execution_count": 30,
     "metadata": {},
     "output_type": "execute_result"
    }
   ],
   "source": [
    "fruits.str.upper().str.swapcase()"
   ]
  },
  {
   "cell_type": "markdown",
   "id": "a184b8a5",
   "metadata": {},
   "source": [
    "2. Count the letter \"a\" in all the string values (use string vectorization)."
   ]
  },
  {
   "cell_type": "code",
   "execution_count": 31,
   "id": "e94308d4",
   "metadata": {},
   "outputs": [
    {
     "data": {
      "text/plain": [
       "0     0\n",
       "1     1\n",
       "2     1\n",
       "3     1\n",
       "4     3\n",
       "5     1\n",
       "6     1\n",
       "7     1\n",
       "8     0\n",
       "9     0\n",
       "10    0\n",
       "11    0\n",
       "12    1\n",
       "13    0\n",
       "14    1\n",
       "15    0\n",
       "16    3\n",
       "Name: fruits, dtype: int64"
      ]
     },
     "execution_count": 31,
     "metadata": {},
     "output_type": "execute_result"
    }
   ],
   "source": [
    "fruits.str.count(\"a\")"
   ]
  },
  {
   "cell_type": "markdown",
   "id": "436dd785",
   "metadata": {},
   "source": [
    "3. Output the number of vowels in each and every string value."
   ]
  },
  {
   "cell_type": "code",
   "execution_count": 32,
   "id": "95217b51",
   "metadata": {},
   "outputs": [
    {
     "data": {
      "text/plain": [
       "0     2\n",
       "1     2\n",
       "2     2\n",
       "3     4\n",
       "4     4\n",
       "5     5\n",
       "6     3\n",
       "7     4\n",
       "8     3\n",
       "9     2\n",
       "10    2\n",
       "11    2\n",
       "12    2\n",
       "13    3\n",
       "14    2\n",
       "15    4\n",
       "16    3\n",
       "Name: fruits, dtype: int64"
      ]
     },
     "execution_count": 32,
     "metadata": {},
     "output_type": "execute_result"
    }
   ],
   "source": [
    "vowels= \"[aeiou]\"\n",
    "\n",
    "fruits.str.count(vowels)"
   ]
  },
  {
   "cell_type": "markdown",
   "id": "f597736b",
   "metadata": {},
   "source": [
    "\n",
    "4. Write the code to get the longest string value from fruits."
   ]
  },
  {
   "cell_type": "code",
   "execution_count": 33,
   "id": "c954256c",
   "metadata": {},
   "outputs": [
    {
     "data": {
      "text/plain": [
       "5    honeycrisp apple\n",
       "Name: fruits, dtype: object"
      ]
     },
     "execution_count": 33,
     "metadata": {},
     "output_type": "execute_result"
    }
   ],
   "source": [
    "fruits[fruits.str.len() > 10]"
   ]
  },
  {
   "cell_type": "markdown",
   "id": "9345afcf",
   "metadata": {},
   "source": [
    "5. Write the code to get the string values with 5 or more letters in the name."
   ]
  },
  {
   "cell_type": "code",
   "execution_count": 34,
   "id": "916f4f8b",
   "metadata": {},
   "outputs": [
    {
     "data": {
      "text/plain": [
       "1                mango\n",
       "2           strawberry\n",
       "3            pineapple\n",
       "4           gala apple\n",
       "5     honeycrisp apple\n",
       "6               tomato\n",
       "7           watermelon\n",
       "8             honeydew\n",
       "12               mango\n",
       "13           blueberry\n",
       "14          blackberry\n",
       "15          gooseberry\n",
       "16              papaya\n",
       "Name: fruits, dtype: object"
      ]
     },
     "execution_count": 34,
     "metadata": {},
     "output_type": "execute_result"
    }
   ],
   "source": [
    "fruits[fruits.str.len() >= 5]"
   ]
  },
  {
   "cell_type": "markdown",
   "id": "dbcc0cc2",
   "metadata": {},
   "source": [
    "6. Find the fruit(s) containing the letter \"o\" two or more times."
   ]
  },
  {
   "cell_type": "code",
   "execution_count": 35,
   "id": "1f32e59e",
   "metadata": {},
   "outputs": [
    {
     "data": {
      "text/plain": [
       "6         tomato\n",
       "15    gooseberry\n",
       "Name: fruits, dtype: object"
      ]
     },
     "execution_count": 35,
     "metadata": {},
     "output_type": "execute_result"
    }
   ],
   "source": [
    "fruits[fruits.str.count(\"o\")  >= 2]"
   ]
  },
  {
   "cell_type": "markdown",
   "id": "e9a2b250",
   "metadata": {},
   "source": [
    "7. Write the code to get only the string values containing the substring \"berry\"."
   ]
  },
  {
   "cell_type": "code",
   "execution_count": 36,
   "id": "caa4796b",
   "metadata": {},
   "outputs": [
    {
     "data": {
      "text/plain": [
       "2     strawberry\n",
       "13     blueberry\n",
       "14    blackberry\n",
       "15    gooseberry\n",
       "Name: fruits, dtype: object"
      ]
     },
     "execution_count": 36,
     "metadata": {},
     "output_type": "execute_result"
    }
   ],
   "source": [
    "fruits[fruits.str.contains(\"berry\")]"
   ]
  },
  {
   "cell_type": "markdown",
   "id": "34a67ebd",
   "metadata": {},
   "source": [
    "8. Write the code to get only the string values containing the substring \"apple\"."
   ]
  },
  {
   "cell_type": "code",
   "execution_count": 37,
   "id": "a0d0956a",
   "metadata": {},
   "outputs": [
    {
     "data": {
      "text/plain": [
       "3           pineapple\n",
       "4          gala apple\n",
       "5    honeycrisp apple\n",
       "Name: fruits, dtype: object"
      ]
     },
     "execution_count": 37,
     "metadata": {},
     "output_type": "execute_result"
    }
   ],
   "source": [
    "fruits[fruits.str.contains(\"apple\")]"
   ]
  },
  {
   "cell_type": "markdown",
   "id": "3a997c0a",
   "metadata": {},
   "source": [
    "9. Which string value contains the most vowels?"
   ]
  },
  {
   "cell_type": "code",
   "execution_count": 38,
   "id": "c0adad10",
   "metadata": {},
   "outputs": [
    {
     "data": {
      "text/plain": [
       "'honeycrisp apple'"
      ]
     },
     "execution_count": 38,
     "metadata": {},
     "output_type": "execute_result"
    }
   ],
   "source": [
    "fruits[fruits.str.count(vowels).max()]"
   ]
  },
  {
   "cell_type": "markdown",
   "id": "6b7f13c6",
   "metadata": {},
   "source": [
    "## Exercises Part III\n",
    "\n",
    "Use pandas to create a Series named letters from the following string. The easiest way to make this string into a Pandas series is to use list to convert each individual letter into a single string on a basic Python list.\n",
    "```\n",
    "'hnvidduckkqxwymbimkccexbkmqygkxoyndmcxnwqarhyffsjpsrabtjzsypmzadfavyrnndndvswreauxovncxtwzpwejilzjrmmbbgbyxvjtewqthafnbkqplarokkyydtubbmnexoypulzwfhqvckdpqtpoppzqrmcvhhpwgjwupgzhiofohawytlsiyecuproguy'\n",
    "```"
   ]
  },
  {
   "cell_type": "code",
   "execution_count": 39,
   "id": "941fb7f7",
   "metadata": {},
   "outputs": [],
   "source": [
    "import pydataset\n",
    "\n",
    "letters = \"hnvidduckkqxwymbimkccexbkmqygkxoyndmcxnwqarhyffsjpsrabtjzsypmzadfavyrnndndvswreauxovncxtwzpwejilzjrmmbbgbyxvjtewqthafnbkqplarokkyydtubbmnexoypulzwfhqvckdpqtpoppzqrmcvhhpwgjwupgzhiofohawytlsiyecuproguy\"\n",
    "\n",
    "letters = pd.Series(list(letters))"
   ]
  },
  {
   "cell_type": "markdown",
   "id": "c05c8fa4",
   "metadata": {},
   "source": [
    "1. Which letter occurs the most frequently in the letters Series?"
   ]
  },
  {
   "cell_type": "code",
   "execution_count": 40,
   "id": "924c89c5",
   "metadata": {},
   "outputs": [
    {
     "data": {
      "text/plain": [
       "'y'"
      ]
     },
     "execution_count": 40,
     "metadata": {},
     "output_type": "execute_result"
    }
   ],
   "source": [
    "letters[letters.value_counts().max()]"
   ]
  },
  {
   "cell_type": "markdown",
   "id": "94c86647",
   "metadata": {},
   "source": [
    "2. Which letter occurs the Least frequently?"
   ]
  },
  {
   "cell_type": "code",
   "execution_count": 41,
   "id": "dbefb541",
   "metadata": {},
   "outputs": [
    {
     "data": {
      "text/plain": [
       "'d'"
      ]
     },
     "execution_count": 41,
     "metadata": {},
     "output_type": "execute_result"
    }
   ],
   "source": [
    "letters[letters.value_counts().min()]"
   ]
  },
  {
   "cell_type": "markdown",
   "id": "76def326",
   "metadata": {},
   "source": [
    "3. How many vowels are in the Series?"
   ]
  },
  {
   "cell_type": "code",
   "execution_count": 42,
   "id": "6f81e780",
   "metadata": {},
   "outputs": [
    {
     "data": {
      "text/plain": [
       "34"
      ]
     },
     "execution_count": 42,
     "metadata": {},
     "output_type": "execute_result"
    }
   ],
   "source": [
    "vowels = list(\"aeiou\")\n",
    "letters[letters.isin(vowels) == True].count()"
   ]
  },
  {
   "cell_type": "markdown",
   "id": "b3a2118b",
   "metadata": {},
   "source": [
    "4. How many consonants are in the Series?"
   ]
  },
  {
   "cell_type": "code",
   "execution_count": 43,
   "id": "9d26ee97",
   "metadata": {},
   "outputs": [
    {
     "data": {
      "text/plain": [
       "166"
      ]
     },
     "execution_count": 43,
     "metadata": {},
     "output_type": "execute_result"
    }
   ],
   "source": [
    "letters[letters.isin(vowels) == False].count()"
   ]
  },
  {
   "cell_type": "markdown",
   "id": "111f2145",
   "metadata": {},
   "source": [
    "5. Create a Series that has all of the same letters but uppercased."
   ]
  },
  {
   "cell_type": "code",
   "execution_count": 44,
   "id": "657a6cf7",
   "metadata": {},
   "outputs": [
    {
     "data": {
      "text/plain": [
       "0      H\n",
       "1      N\n",
       "2      V\n",
       "3      I\n",
       "4      D\n",
       "      ..\n",
       "195    R\n",
       "196    O\n",
       "197    G\n",
       "198    U\n",
       "199    Y\n",
       "Length: 200, dtype: object"
      ]
     },
     "execution_count": 44,
     "metadata": {},
     "output_type": "execute_result"
    }
   ],
   "source": [
    "letters.str.upper()"
   ]
  },
  {
   "cell_type": "markdown",
   "id": "36c5e102",
   "metadata": {},
   "source": [
    "6. Create a bar plot of the frequencies of the 6 most commonly occuring letters."
   ]
  },
  {
   "cell_type": "code",
   "execution_count": 45,
   "id": "e6d8931f",
   "metadata": {},
   "outputs": [
    {
     "data": {
      "text/plain": [
       "y    13\n",
       "p    12\n",
       "w    10\n",
       "b     9\n",
       "n     9\n",
       "k     9\n",
       "dtype: int64"
      ]
     },
     "execution_count": 45,
     "metadata": {},
     "output_type": "execute_result"
    }
   ],
   "source": [
    "common_occ = letters.value_counts().sort_values(ascending=False).head(6)\n",
    "common_occ"
   ]
  },
  {
   "cell_type": "code",
   "execution_count": 94,
   "id": "91891118",
   "metadata": {},
   "outputs": [
    {
     "data": {
      "text/plain": [
       "<Axes: >"
      ]
     },
     "execution_count": 94,
     "metadata": {},
     "output_type": "execute_result"
    },
    {
     "data": {
      "image/png": "[encoded data removed]",
      "text/plain": [
       "<Figure size 600x200 with 1 Axes>"
      ]
     },
     "metadata": {},
     "output_type": "display_data"
    }
   ],
   "source": [
    "plt.figure(figsize = (6,2))\n",
    "common_occ.plot.bar()"
   ]
  },
  {
   "cell_type": "markdown",
   "id": "68f87f70",
   "metadata": {},
   "source": [
    "Use pandas to create a Series named numbers from the following list:\n",
    "\n",
    "```\n",
    "['$796,459.41', '$278.60', '$482,571.67', '$4,503,915.98', '$2,121,418.3', '$1,260,813.3', '$87,231.01', '$1,509,175.45', '$4,138,548.00', '$2,848,913.80', '$594,715.39', '$4,789,988.17', '$4,513,644.5', '$3,191,059.97', '$1,758,712.24', '$4,338,283.54', '$4,738,303.38', '$2,791,759.67', '$769,681.94', '$452,650.23']\n",
    "```"
   ]
  },
  {
   "cell_type": "code",
   "execution_count": 47,
   "id": "f1dc1bf1",
   "metadata": {},
   "outputs": [],
   "source": [
    "money = ['$796,459.41', '$278.60', '$482,571.67', '$4,503,915.98', '$2,121,418.3', '$1,260,813.3', '$87,231.01', '$1,509,175.45', '$4,138,548.00', '$2,848,913.80', '$594,715.39', '$4,789,988.17', '$4,513,644.5', '$3,191,059.97', '$1,758,712.24', '$4,338,283.54', '$4,738,303.38', '$2,791,759.67', '$769,681.94', '$452,650.23']\n",
    "\n",
    "money = pd.Series(money)"
   ]
  },
  {
   "cell_type": "markdown",
   "id": "2fa25324",
   "metadata": {},
   "source": [
    "1. What is the data type of the numbers Series?"
   ]
  },
  {
   "cell_type": "code",
   "execution_count": 48,
   "id": "9dfacbf2",
   "metadata": {},
   "outputs": [
    {
     "data": {
      "text/plain": [
       "dtype('O')"
      ]
     },
     "execution_count": 48,
     "metadata": {},
     "output_type": "execute_result"
    }
   ],
   "source": [
    "money.dtype"
   ]
  },
  {
   "cell_type": "markdown",
   "id": "2dd3b834",
   "metadata": {},
   "source": [
    "2. How many elements are in the number Series?"
   ]
  },
  {
   "cell_type": "code",
   "execution_count": 49,
   "id": "03a244d9",
   "metadata": {},
   "outputs": [
    {
     "data": {
      "text/plain": [
       "20"
      ]
     },
     "execution_count": 49,
     "metadata": {},
     "output_type": "execute_result"
    }
   ],
   "source": [
    "money.count()"
   ]
  },
  {
   "cell_type": "markdown",
   "id": "fa178566",
   "metadata": {},
   "source": [
    "3. Perform the necessary manipulations by accessing Series attributes and methods to convert the numbers Series to a numeric data type."
   ]
  },
  {
   "cell_type": "code",
   "execution_count": 52,
   "id": "f9e68d41",
   "metadata": {},
   "outputs": [
    {
     "name": "stderr",
     "output_type": "stream",
     "text": [
      "/var/folders/jq/1gsqwxz13gxf_lpnwb_27r0c0000gn/T/ipykernel_28789/1517992139.py:1: FutureWarning: The default value of regex will change from True to False in a future version. In addition, single character regular expressions will *not* be treated as literal strings when regex=True.\n",
      "  numbers = money.str.replace(\"$\",\"\").str.replace(\",\",\"\").astype(float)\n"
     ]
    },
    {
     "data": {
      "text/plain": [
       "0      796459.41\n",
       "1         278.60\n",
       "2      482571.67\n",
       "3     4503915.98\n",
       "4     2121418.30\n",
       "5     1260813.30\n",
       "6       87231.01\n",
       "7     1509175.45\n",
       "8     4138548.00\n",
       "9     2848913.80\n",
       "10     594715.39\n",
       "11    4789988.17\n",
       "12    4513644.50\n",
       "13    3191059.97\n",
       "14    1758712.24\n",
       "15    4338283.54\n",
       "16    4738303.38\n",
       "17    2791759.67\n",
       "18     769681.94\n",
       "19     452650.23\n",
       "dtype: float64"
      ]
     },
     "execution_count": 52,
     "metadata": {},
     "output_type": "execute_result"
    }
   ],
   "source": [
    "numbers = money.str.replace(\"$\",\"\").str.replace(\",\",\"\").astype(float)\n",
    "\n",
    "numbers"
   ]
  },
  {
   "cell_type": "markdown",
   "id": "d24557a2",
   "metadata": {},
   "source": [
    "4. Run the code to discover the maximum value from the Series."
   ]
  },
  {
   "cell_type": "code",
   "execution_count": 53,
   "id": "7111c83c",
   "metadata": {},
   "outputs": [
    {
     "data": {
      "text/plain": [
       "4789988.17"
      ]
     },
     "execution_count": 53,
     "metadata": {},
     "output_type": "execute_result"
    }
   ],
   "source": [
    "numbers.max()"
   ]
  },
  {
   "cell_type": "markdown",
   "id": "a8307188",
   "metadata": {},
   "source": [
    "5. Run the code to discover the minimum value from the Series."
   ]
  },
  {
   "cell_type": "code",
   "execution_count": 54,
   "id": "fe2cd8be",
   "metadata": {},
   "outputs": [
    {
     "data": {
      "text/plain": [
       "278.6"
      ]
     },
     "execution_count": 54,
     "metadata": {},
     "output_type": "execute_result"
    }
   ],
   "source": [
    "numbers.min()"
   ]
  },
  {
   "cell_type": "markdown",
   "id": "b68bbd5b",
   "metadata": {},
   "source": [
    "6. What is the range of the values in the Series?"
   ]
  },
  {
   "cell_type": "code",
   "execution_count": 55,
   "id": "edb4c075",
   "metadata": {},
   "outputs": [
    {
     "data": {
      "text/plain": [
       "4789709.57"
      ]
     },
     "execution_count": 55,
     "metadata": {},
     "output_type": "execute_result"
    }
   ],
   "source": [
    "numbers.max() - numbers.min()"
   ]
  },
  {
   "cell_type": "markdown",
   "id": "d8ecc8c3",
   "metadata": {},
   "source": [
    "7. Bin the data into 4 equally sized intervals or bins and output how many values fall into each bin."
   ]
  },
  {
   "cell_type": "code",
   "execution_count": 77,
   "id": "59180bc6",
   "metadata": {},
   "outputs": [
    {
     "data": {
      "text/plain": [
       "0        (-4511.11, 1197705.993]\n",
       "1        (-4511.11, 1197705.993]\n",
       "2        (-4511.11, 1197705.993]\n",
       "3      (3592560.778, 4789988.17]\n",
       "4     (1197705.993, 2395133.385]\n",
       "5     (1197705.993, 2395133.385]\n",
       "6        (-4511.11, 1197705.993]\n",
       "7     (1197705.993, 2395133.385]\n",
       "8      (3592560.778, 4789988.17]\n",
       "9     (2395133.385, 3592560.778]\n",
       "10       (-4511.11, 1197705.993]\n",
       "11     (3592560.778, 4789988.17]\n",
       "12     (3592560.778, 4789988.17]\n",
       "13    (2395133.385, 3592560.778]\n",
       "14    (1197705.993, 2395133.385]\n",
       "15     (3592560.778, 4789988.17]\n",
       "16     (3592560.778, 4789988.17]\n",
       "17    (2395133.385, 3592560.778]\n",
       "18       (-4511.11, 1197705.993]\n",
       "19       (-4511.11, 1197705.993]\n",
       "dtype: category\n",
       "Categories (4, interval[float64, right]): [(-4511.11, 1197705.993] < (1197705.993, 2395133.385] < (2395133.385, 3592560.778] < (3592560.778, 4789988.17]]"
      ]
     },
     "execution_count": 77,
     "metadata": {},
     "output_type": "execute_result"
    }
   ],
   "source": [
    "my_bins = pd.cut(numbers, 4)\n",
    "my_bins"
   ]
  },
  {
   "cell_type": "markdown",
   "id": "56ddc2e0",
   "metadata": {},
   "source": [
    "8. Plot the binned data in a meaningful way. Be sure to include a title and axis labels."
   ]
  },
  {
   "cell_type": "code",
   "execution_count": 74,
   "id": "e0004de3",
   "metadata": {
    "scrolled": true
   },
   "outputs": [
    {
     "data": {
      "text/plain": [
       "(-4511.11, 1197705.993]       7\n",
       "(3592560.778, 4789988.17]     6\n",
       "(1197705.993, 2395133.385]    4\n",
       "(2395133.385, 3592560.778]    3\n",
       "dtype: int64"
      ]
     },
     "execution_count": 74,
     "metadata": {},
     "output_type": "execute_result"
    }
   ],
   "source": [
    "counts = my_bins.value_counts()\n",
    "counts"
   ]
  },
  {
   "cell_type": "code",
   "execution_count": 93,
   "id": "2bf8fa5e",
   "metadata": {},
   "outputs": [
    {
     "data": {
      "text/plain": [
       "[Text(0.5, 0, 'Bins'), Text(0, 0.5, 'level')]"
      ]
     },
     "execution_count": 93,
     "metadata": {},
     "output_type": "execute_result"
    },
    {
     "data": {
      "image/png": "[encoded data removed]",
      "text/plain": [
       "<Figure size 600x200 with 1 Axes>"
      ]
     },
     "metadata": {},
     "output_type": "display_data"
    }
   ],
   "source": [
    "plt.figure(figsize=(6,2))\n",
    "labels = [\"Bad\", \"Ok\", \"Good\", \"Great\"]\n",
    "counts.plot.bar(title = \"Binned Numbers\", rot=45\n",
    "               ).set(xlabel = \"Bins\", ylabel= \"level\")"
   ]
  },
  {
   "cell_type": "markdown",
   "id": "3198d6de",
   "metadata": {},
   "source": [
    "Use pandas to create a Series named exam_scores from the following list:\n",
    "```\n",
    "[60, 86, 75, 62, 93, 71, 60, 83, 95, 78, 65, 72, 69, 81, 96, 80, 85, 92, 82, 78]\n",
    "```"
   ]
  },
  {
   "cell_type": "code",
   "execution_count": 68,
   "id": "3ef6e069",
   "metadata": {},
   "outputs": [],
   "source": [
    "scores = [60, 86, 75, 62, 93, 71, 60, 83, 95, 78, 65, 72, 69, 81, 96, 80, 85, 92, 82, 78]\n",
    "\n",
    "scores = pd.Series(scores)"
   ]
  },
  {
   "cell_type": "markdown",
   "id": "ae30cfe7",
   "metadata": {},
   "source": [
    "1. How many elements are in the exam_scores Series?"
   ]
  },
  {
   "cell_type": "code",
   "execution_count": 69,
   "id": "a2510231",
   "metadata": {},
   "outputs": [
    {
     "data": {
      "text/plain": [
       "20"
      ]
     },
     "execution_count": 69,
     "metadata": {},
     "output_type": "execute_result"
    }
   ],
   "source": [
    "scores.count()"
   ]
  },
  {
   "cell_type": "markdown",
   "id": "c5c4257f",
   "metadata": {},
   "source": [
    "2. Run the code to discover the minimum, the maximum, the mean, and the median scores for the exam_scores Series."
   ]
  },
  {
   "cell_type": "code",
   "execution_count": 80,
   "id": "5dfecd4d",
   "metadata": {},
   "outputs": [
    {
     "data": {
      "text/plain": [
       "count    20.000000\n",
       "mean     78.150000\n",
       "std      11.352139\n",
       "min      60.000000\n",
       "25%      70.500000\n",
       "50%      79.000000\n",
       "75%      85.250000\n",
       "max      96.000000\n",
       "dtype: float64"
      ]
     },
     "execution_count": 80,
     "metadata": {},
     "output_type": "execute_result"
    }
   ],
   "source": [
    "scores.describe()"
   ]
  },
  {
   "cell_type": "markdown",
   "id": "4f43cc9e",
   "metadata": {},
   "source": [
    "3. Plot the Series in a meaningful way and make sure your chart has a title and axis labels."
   ]
  },
  {
   "cell_type": "code",
   "execution_count": 105,
   "id": "96a608f8",
   "metadata": {},
   "outputs": [
    {
     "data": {
      "text/plain": [
       "[Text(0.5, 0, 'student'), Text(0, 0.5, 'Scores')]"
      ]
     },
     "execution_count": 105,
     "metadata": {},
     "output_type": "execute_result"
    },
    {
     "data": {
      "image/png": "[encoded data removed]",
      "text/plain": [
       "<Figure size 600x200 with 1 Axes>"
      ]
     },
     "metadata": {},
     "output_type": "display_data"
    }
   ],
   "source": [
    "plt.figure(figsize=(6,2))\n",
    "scores.plot.bar(title=\"Student Examp Scores\",\n",
    "                width= .7\n",
    "               ).set(xlabel= \"student\",\n",
    "                     ylabel= \"Scores\")"
   ]
  },
  {
   "cell_type": "markdown",
   "id": "2a9e89d4",
   "metadata": {},
   "source": [
    "4. Write the code necessary to implement a curve for your exam_grades Series and save this as curved_grades. Add the necessary points to the highest grade to make it 100, and add the same number of points to every other score in the Series as well."
   ]
  },
  {
   "cell_type": "code",
   "execution_count": 102,
   "id": "0d21eda1",
   "metadata": {},
   "outputs": [
    {
     "data": {
      "text/plain": [
       "array([ 64,  90,  79,  66,  97,  75,  64,  87,  99,  82,  69,  76,  73,\n",
       "        85, 100,  84,  89,  96,  86,  82])"
      ]
     },
     "execution_count": 102,
     "metadata": {},
     "output_type": "execute_result"
    }
   ],
   "source": [
    "curved_grades = np.array(scores) + 4\n",
    "curved_grades"
   ]
  },
  {
   "cell_type": "markdown",
   "id": "00cd5cea",
   "metadata": {},
   "source": [
    "5. Use a method to convert each of the numeric values in the curved_grades Series into a categorical value of letter grades. For example, 86 should be a 'B' and 95 should be an 'A'. Save this as a Series named letter_grades."
   ]
  },
  {
   "cell_type": "code",
   "execution_count": 143,
   "id": "93124c13",
   "metadata": {},
   "outputs": [
    {
     "data": {
      "text/plain": [
       "A    5\n",
       "B    7\n",
       "C    4\n",
       "F    4\n",
       "dtype: int64"
      ]
     },
     "execution_count": 143,
     "metadata": {},
     "output_type": "execute_result"
    }
   ],
   "source": [
    "evaluate_bin = [60, 70, 80, 90,101]\n",
    "labels = list(\"FCBA\")\n",
    "\n",
    "letter_grade = pd.cut(curved_grades, \n",
    "                      bins=evaluate_bin, \n",
    "                      labels = labels, \n",
    "                      right=False\n",
    "                     ).value_counts()\n",
    "\n",
    "letter_grade = letter_grade.sort_index(ascending= False)\n",
    "letter_grade"
   ]
  },
  {
   "cell_type": "markdown",
   "id": "8d9106f9",
   "metadata": {},
   "source": [
    "6. Plot your new categorical letter_grades Series in a meaninful way and include a title and axis labels."
   ]
  },
  {
   "cell_type": "code",
   "execution_count": 151,
   "id": "293c4a09",
   "metadata": {},
   "outputs": [
    {
     "data": {
      "text/plain": [
       "[Text(0.5, 0, 'Grade'), Text(0, 0.5, '# of Students')]"
      ]
     },
     "execution_count": 151,
     "metadata": {},
     "output_type": "execute_result"
    },
    {
     "data": {
      "image/png": "[encoded data removed]",
      "text/plain": [
       "<Figure size 600x200 with 1 Axes>"
      ]
     },
     "metadata": {},
     "output_type": "display_data"
    }
   ],
   "source": [
    "plt.figure(figsize=(6,2))\n",
    "letter_grade.plot.bar(title=\"Student Letter Grade\",\n",
    "                     rot= \"horizontal\"\n",
    "                     ).set(xlabel=\"Grade\",\n",
    "                          ylabel= \"# of Students\")"
   ]
  }
 ],
 "metadata": {
  "kernelspec": {
   "display_name": "Python 3 (ipykernel)",
   "language": "python",
   "name": "python3"
  },
  "language_info": {
   "codemirror_mode": {
    "name": "ipython",
    "version": 3
   },
   "file_extension": ".py",
   "mimetype": "text/x-python",
   "name": "python",
   "nbconvert_exporter": "python",
   "pygments_lexer": "ipython3",
   "version": "3.10.9"
  }
 },
 "nbformat": 4,
 "nbformat_minor": 5
}
